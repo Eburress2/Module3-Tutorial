{
 "cells": [
  {
   "cell_type": "code",
   "execution_count": 1,
   "id": "1fc659b0-bc85-4208-8f7a-4c3f2ebe01e7",
   "metadata": {},
   "outputs": [
    {
     "name": "stdin",
     "output_type": "stream",
     "text": [
      "Enter number of test cases:  2\n",
      "Enter space-separated array elements:  0 1 2 0 1 2 0\n"
     ]
    },
    {
     "name": "stdout",
     "output_type": "stream",
     "text": [
      "Input Array: [0, 1, 2, 0, 1, 2, 0]\n",
      "Sorted Array: [0, 0, 0, 1, 1, 2, 2]\n",
      "\n"
     ]
    },
    {
     "name": "stdin",
     "output_type": "stream",
     "text": [
      "Enter space-separated array elements:  2 2 1 0 2 1 0\n"
     ]
    },
    {
     "name": "stdout",
     "output_type": "stream",
     "text": [
      "Input Array: [2, 2, 1, 0, 2, 1, 0]\n",
      "Sorted Array: [0, 0, 1, 1, 2, 2, 2]\n",
      "\n"
     ]
    }
   ],
   "source": [
    "class Solution:\n",
    "    # Function to sort an array of 0s, 1s, and 2s\n",
    "    def sort012(self, arr):\n",
    "        low, mid, high = 0, 0, len(arr) - 1\n",
    "\n",
    "        while mid <= high:\n",
    "            if arr[mid] == 0:\n",
    "                arr[low], arr[mid] = arr[mid], arr[low]\n",
    "                low += 1\n",
    "                mid += 1\n",
    "            elif arr[mid] == 1:\n",
    "                mid += 1\n",
    "            else:  # arr[mid] == 2\n",
    "                arr[mid], arr[high] = arr[high], arr[mid]\n",
    "                high -= 1\n",
    "\n",
    "# Driver Code\n",
    "def main():\n",
    "    try:\n",
    "        # Read the number of test cases and validate\n",
    "        t_input = input(\"Enter number of test cases: \").strip()\n",
    "        \n",
    "        if not t_input or not t_input.isdigit():  # Ensure input is a valid number\n",
    "            print(\"Error: Please enter a valid integer for test cases.\")\n",
    "            return\n",
    "\n",
    "        t = int(t_input)\n",
    "        ob = Solution()\n",
    "\n",
    "        for _ in range(t):\n",
    "            arr_input = input(\"Enter space-separated array elements: \").strip()\n",
    "            \n",
    "            if not arr_input:  # Check for empty input\n",
    "                print(\"Error: Empty input received. Please provide a valid array.\")\n",
    "                continue\n",
    "\n",
    "            try:\n",
    "                arr = list(map(int, arr_input.split()))  # Convert input to list of integers\n",
    "                print(f\"Input Array: {arr}\")  # Show the input array\n",
    "                ob.sort012(arr)  # Sort the array\n",
    "                print(f\"Sorted Array: {arr}\\n\")  # Show the sorted array\n",
    "            except ValueError:\n",
    "                print(\"Error: Please enter a valid space-separated list of integers.\")\n",
    "\n",
    "    except Exception as e:\n",
    "        print(f\"Unexpected Error: {e}\")\n",
    "\n",
    "if __name__ == \"__main__\":\n",
    "    main()"
   ]
  },
  {
   "cell_type": "code",
   "execution_count": 1,
   "id": "4abd5e9b-b3dd-4963-9da3-283068951738",
   "metadata": {},
   "outputs": [
    {
     "name": "stdout",
     "output_type": "stream",
     "text": [
      "Array: [1, 2, 3, 4, 5], Search: 4, Index: 3\n",
      "~\n",
      "Array: [11, 22, 33, 44, 55], Search: 445, Index: -1\n",
      "~\n",
      "Array: [1, 1, 1, 1, 2], Search: 1, Index: 0\n",
      "~\n"
     ]
    }
   ],
   "source": [
    "# User function template for Python\n",
    "class Solution:\n",
    "    def binarysearch(self, arr, k):\n",
    "        left, right = 0, len(arr) - 1\n",
    "        result = -1  \n",
    "\n",
    "        while left <= right:\n",
    "            mid = left + (right - left) // 2\n",
    "\n",
    "            if arr[mid] == k:\n",
    "                result = mid  \n",
    "                right = mid - 1  \n",
    "            elif arr[mid] < k:\n",
    "                left = mid + 1\n",
    "            else:\n",
    "                right = mid - 1\n",
    "\n",
    "        return result\n",
    "\n",
    "# Had to Update the Driver Code for Jupyter Notebook\n",
    "def run_tests():\n",
    "    test_cases = [\n",
    "        ([1, 2, 3, 4, 5], 4),\n",
    "        ([11, 22, 33, 44, 55], 445),\n",
    "        ([1, 1, 1, 1, 2], 1),\n",
    "    ]\n",
    "    ob = Solution()\n",
    "    for arr, k in test_cases:\n",
    "        res = ob.binarysearch(arr, k)\n",
    "        print(f\"Array: {arr}, Search: {k}, Index: {res}\")\n",
    "        print(\"~\")\n",
    "\n",
    "# Run test cases for Jupyter Notebook\n",
    "run_tests()"
   ]
  },
  {
   "cell_type": "code",
   "execution_count": null,
   "id": "08f1f19a-3060-4391-9e3b-818dc1d529ac",
   "metadata": {},
   "outputs": [],
   "source": []
  }
 ],
 "metadata": {
  "kernelspec": {
   "display_name": "Python 3 (ipykernel)",
   "language": "python",
   "name": "python3"
  },
  "language_info": {
   "codemirror_mode": {
    "name": "ipython",
    "version": 3
   },
   "file_extension": ".py",
   "mimetype": "text/x-python",
   "name": "python",
   "nbconvert_exporter": "python",
   "pygments_lexer": "ipython3",
   "version": "3.12.7"
  }
 },
 "nbformat": 4,
 "nbformat_minor": 5
}
